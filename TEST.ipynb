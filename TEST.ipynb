{
 "cells": [
  {
   "cell_type": "code",
   "execution_count": null,
   "metadata": {},
   "outputs": [],
   "source": [
    "import cv2\n",
    "import numpy as np\n",
    "import matplotlib.pyplot as plt\n",
    "\n",
    "import torch\n",
    "import kornia as K\n",
    "from kornia.contrib import FaceDetector, FaceDetectorResult\n",
    "\n",
    "# select the device and type\n",
    "device = torch.device('cpu')  # use 'cuda:0'\n",
    "dtype = torch.float32"
   ]
  },
  {
   "cell_type": "code",
   "execution_count": null,
   "metadata": {},
   "outputs": [],
   "source": [
    "# load the image and scale (if needed)\n",
    "img_raw = cv2.imread('squid_games.png', cv2.IMREAD_COLOR)\n",
    "\n",
    "# preprocess\n",
    "img = K.image_to_tensor(img_raw, keepdim=False).to(device, dtype)\n",
    "img = K.color.bgr_to_rgb(img)\n",
    "\n",
    "img_vis = K.tensor_to_image(img.byte().clone()) "
   ]
  },
  {
   "cell_type": "code",
   "execution_count": null,
   "metadata": {},
   "outputs": [],
   "source": [
    "plt.figure(figsize=(8, 8))\n",
    "plt.imshow(K.tensor_to_image(img.byte()))\n",
    "plt.axis('off')"
   ]
  },
  {
   "cell_type": "code",
   "execution_count": null,
   "metadata": {},
   "outputs": [],
   "source": [
    "# create the detector and find the faces !\n",
    "face_detection = FaceDetector().to(device, dtype)\n",
    "\n",
    "with torch.no_grad():\n",
    "    dets = face_detection(img)\n",
    "\n",
    "# to decode later the detections\n",
    "dets = [FaceDetectorResult(o) for o in dets]"
   ]
  },
  {
   "cell_type": "code",
   "execution_count": null,
   "metadata": {},
   "outputs": [],
   "source": [
    "for b in dets:\n",
    "    if b.score < 0.6:  # skip detections with lower score\n",
    "        continue\n",
    "    \n",
    "    # draw face bounding box around each detected face\n",
    "    x1, y1 = b.top_left.int().tolist()\n",
    "    x2, y2 = b.bottom_right.int().tolist()\n",
    "    img_vis = cv2.rectangle(img_vis, (x1, y1), (x2, y2), (0, 255, 0), 4)\n",
    "\n",
    "plt.figure(figsize=(8, 8))\n",
    "plt.imshow(img_vis)\n",
    "plt.axis('off')"
   ]
  }
 ],
 "metadata": {
  "kernelspec": {
   "display_name": "TALagi",
   "language": "python",
   "name": "python3"
  },
  "language_info": {
   "codemirror_mode": {
    "name": "ipython",
    "version": 3
   },
   "file_extension": ".py",
   "mimetype": "text/x-python",
   "name": "python",
   "nbconvert_exporter": "python",
   "pygments_lexer": "ipython3",
   "version": "3.10.8 (main, Nov 24 2022, 08:09:04) [Clang 14.0.6 ]"
  },
  "orig_nbformat": 4,
  "vscode": {
   "interpreter": {
    "hash": "41f1e1315904d6829cf522374fd0d408f30097381f33eeceb7216041bcfa534f"
   }
  }
 },
 "nbformat": 4,
 "nbformat_minor": 2
}
